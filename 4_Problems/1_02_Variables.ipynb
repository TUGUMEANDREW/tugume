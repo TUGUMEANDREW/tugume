{
  "cells": [
    {
      "cell_type": "markdown",
      "id": "2466476d",
      "metadata": {
        "id": "2466476d"
      },
      "source": [
        "<a target=\"_blank\" href=\"https://colab.research.google.com/github/lukebarousse/Python_Data_Analytics_Course/blob/main/4_Problems/1_02_Variables.ipynb\">\n",
        "  <img src=\"https://colab.research.google.com/assets/colab-badge.svg\" alt=\"Open In Colab\"/>\n",
        "</a>"
      ]
    },
    {
      "cell_type": "markdown",
      "id": "e37d427b",
      "metadata": {
        "id": "e37d427b"
      },
      "source": [
        "## 🟩 Job Postings Count (1.2.1)"
      ]
    },
    {
      "cell_type": "code",
      "execution_count": 1,
      "id": "050c33c7",
      "metadata": {
        "id": "050c33c7",
        "outputId": "53d143f1-3f82-41e8-de13-ded24c04837e",
        "colab": {
          "base_uri": "https://localhost:8080/"
        }
      },
      "outputs": [
        {
          "output_type": "stream",
          "name": "stdout",
          "text": [
            "42\n"
          ]
        }
      ],
      "source": [
        "job_count = 42\n",
        "print(job_count)"
      ]
    },
    {
      "cell_type": "markdown",
      "id": "d6222211",
      "metadata": {
        "id": "d6222211"
      },
      "source": [
        "---"
      ]
    },
    {
      "cell_type": "markdown",
      "id": "4f5e520d",
      "metadata": {
        "id": "4f5e520d"
      },
      "source": [
        "## 🟩 Job Information (1.2.2)"
      ]
    },
    {
      "cell_type": "code",
      "execution_count": 8,
      "id": "c2ad2c6f",
      "metadata": {
        "id": "c2ad2c6f",
        "outputId": "d0dd03e4-4e18-4762-932a-6ac4c4cd575e",
        "colab": {
          "base_uri": "https://localhost:8080/"
        }
      },
      "outputs": [
        {
          "output_type": "stream",
          "name": "stdout",
          "text": [
            "Data Engineer DataWorks True\n"
          ]
        }
      ],
      "source": [
        "job_title = 'Data Engineer'\n",
        "company_name = 'DataWorks'\n",
        "remote_status = True\n",
        "print(job_title, company_name, remote_status)"
      ]
    },
    {
      "cell_type": "markdown",
      "id": "9410701d",
      "metadata": {
        "id": "9410701d"
      },
      "source": [
        "---"
      ]
    },
    {
      "cell_type": "markdown",
      "id": "42b41453",
      "metadata": {
        "id": "42b41453"
      },
      "source": [
        "## 🟨 Calculate Total Compensation (1.2.3)"
      ]
    },
    {
      "cell_type": "code",
      "execution_count": 9,
      "id": "090d299d",
      "metadata": {
        "id": "090d299d",
        "outputId": "242aeeac-a0dc-46d2-8d06-2054e87d7f47",
        "colab": {
          "base_uri": "https://localhost:8080/"
        }
      },
      "outputs": [
        {
          "output_type": "stream",
          "name": "stdout",
          "text": [
            "140000\n"
          ]
        }
      ],
      "source": [
        "base_salary = 120000\n",
        "bonus = 20000\n",
        "total_compensation = base_salary + bonus\n",
        "print(total_compensation)"
      ]
    },
    {
      "cell_type": "markdown",
      "id": "265b0fb2",
      "metadata": {
        "id": "265b0fb2"
      },
      "source": [
        "---"
      ]
    },
    {
      "cell_type": "markdown",
      "id": "75d875ee",
      "metadata": {
        "id": "75d875ee"
      },
      "source": [
        "## 🟨 Calculate Monthly Salary (1.2.4)"
      ]
    },
    {
      "cell_type": "code",
      "execution_count": 10,
      "id": "34f25c43",
      "metadata": {
        "id": "34f25c43",
        "outputId": "3cd1bffe-fdad-4eaf-8978-79c4bce46630",
        "colab": {
          "base_uri": "https://localhost:8080/"
        }
      },
      "outputs": [
        {
          "output_type": "stream",
          "name": "stdout",
          "text": [
            "6000.0\n"
          ]
        }
      ],
      "source": [
        "annual_salary = 72000\n",
        "monthly_salary = annual_salary / 12\n",
        "print(monthly_salary)"
      ]
    },
    {
      "cell_type": "markdown",
      "id": "c56037ed",
      "metadata": {
        "id": "c56037ed"
      },
      "source": [
        "---"
      ]
    },
    {
      "cell_type": "markdown",
      "id": "202fff0c",
      "metadata": {
        "id": "202fff0c"
      },
      "source": [
        "## 🟥 Calculate Total Compensation with Bonus (1.2.5)"
      ]
    },
    {
      "cell_type": "code",
      "execution_count": 12,
      "id": "50ef2f55",
      "metadata": {
        "id": "50ef2f55",
        "outputId": "c4ffbdc4-3094-47d5-f932-31a74b5ff534",
        "colab": {
          "base_uri": "https://localhost:8080/"
        }
      },
      "outputs": [
        {
          "output_type": "stream",
          "name": "stdout",
          "text": [
            "121000.0\n"
          ]
        }
      ],
      "source": [
        "job_title = \"Data Scientist\"\n",
        "company_name = \"AI Solutions\"\n",
        "salary = 110000\n",
        "total_compensation = salary + 10/100 * salary\n",
        "print(total_compensation)"
      ]
    },
    {
      "cell_type": "markdown",
      "id": "e7cda152",
      "metadata": {
        "id": "e7cda152"
      },
      "source": [
        "---"
      ]
    }
  ],
  "metadata": {
    "colab": {
      "provenance": []
    },
    "language_info": {
      "name": "python"
    },
    "kernelspec": {
      "name": "python3",
      "display_name": "Python 3"
    }
  },
  "nbformat": 4,
  "nbformat_minor": 5
}